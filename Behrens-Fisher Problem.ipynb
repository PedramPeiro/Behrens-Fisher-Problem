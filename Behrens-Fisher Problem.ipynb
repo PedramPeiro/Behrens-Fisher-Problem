{
 "cells": [
  {
   "cell_type": "markdown",
   "metadata": {},
   "source": [
    "# Student's t-test"
   ]
  },
  {
   "cell_type": "code",
   "execution_count": 1,
   "metadata": {
    "ExecuteTime": {
     "end_time": "2022-07-20T07:00:48.719749Z",
     "start_time": "2022-07-20T07:00:48.350521Z"
    }
   },
   "outputs": [],
   "source": [
    "import numpy as np\n",
    "import scipy.stats as stats\n",
    "def student_ttest(data1 , data2 , alpha=0.05):\n",
    "    '''\n",
    "    input:\n",
    "    data1 and data2 are the samples from 2 different societies\n",
    "    alpha's default value is 0.05, but can be changed\n",
    "    \n",
    "    output:\n",
    "    1) result of the test\n",
    "    2) pvalue\n",
    "    '''\n",
    "    \n",
    "    _,pval = stats.ttest_ind(data1 , data2 , equal_var = True)\n",
    "    \n",
    "    if pval<alpha:\n",
    "        print('reject H0')\n",
    "    else:\n",
    "        print(f'not enough evidence to reject H0 under the significance level of {alpha}')\n",
    "    return pval"
   ]
  },
  {
   "cell_type": "markdown",
   "metadata": {},
   "source": [
    "## Welch's t-test"
   ]
  },
  {
   "cell_type": "code",
   "execution_count": 2,
   "metadata": {
    "ExecuteTime": {
     "end_time": "2022-07-20T07:00:48.734494Z",
     "start_time": "2022-07-20T07:00:48.722527Z"
    }
   },
   "outputs": [],
   "source": [
    "import numpy as np\n",
    "import scipy.stats as stats\n",
    "def welch_ttest(data1 , data2 , alpha=0.05):\n",
    "    '''\n",
    "    input:\n",
    "    data1 and data2 are the samples from 2 different societies\n",
    "    alpha's default value is 0.05, but can be changed\n",
    "    \n",
    "    output:\n",
    "    1) result of the test\n",
    "    2) pvalue\n",
    "    '''\n",
    "    \n",
    "    _,pval = stats.ttest_ind(data1 , data2 , equal_var = False)\n",
    "    \n",
    "    if pval<alpha:\n",
    "        print('reject H0')\n",
    "    else:\n",
    "        print(f'not enough evidence to reject H0 under the significance level of {alpha}')\n",
    "    return pval"
   ]
  },
  {
   "cell_type": "markdown",
   "metadata": {},
   "source": [
    "## CCT"
   ]
  },
  {
   "cell_type": "code",
   "execution_count": 3,
   "metadata": {
    "ExecuteTime": {
     "end_time": "2022-07-20T07:00:48.750451Z",
     "start_time": "2022-07-20T07:00:48.736490Z"
    }
   },
   "outputs": [],
   "source": [
    "import numpy as np\n",
    "import scipy.stats as stats\n",
    "def CCT(data1 , data2 , alpha=0.05):\n",
    "    '''\n",
    "    input:\n",
    "    data1 and data2 are the samples from 2 different societies\n",
    "    alpha's default value is 0.05, but can be changed\n",
    "    \n",
    "    output:\n",
    "    1) result of the test\n",
    "    2) test-statistics\n",
    "    3) cut-off point\n",
    "    '''\n",
    "    \n",
    "    Xbar1 = data1.mean()\n",
    "    Xbar2 = data2.mean()\n",
    "    var1 = data1.var()\n",
    "    var2 = data2.var()\n",
    "    n1 = len(data1)\n",
    "    n2 = len(data2)\n",
    "    \n",
    "    # test statistics formula\n",
    "    delta = np.abs((Xbar1-Xbar2)/np.sqrt(var1/n1 + var2/n2))\n",
    "\n",
    "    t1 = stats.t.ppf(1-alpha/2 , df=n1-1) \n",
    "    t2 = stats.t.ppf(1-alpha/2 , df=n2-1)\n",
    "    \n",
    "    # cut-off point formula\n",
    "    t_CCT = ((t1*var1/n1)+(t2*var2/n2))/(var1/n1+var2/n2)\n",
    "\n",
    "    if delta<=t_CCT:\n",
    "        print(f'not enough evidence to reject H0 under the significance level of {alpha}')\n",
    "    else:\n",
    "        print('reject H0')\n",
    "\n",
    "    return (delta , t_CCT)"
   ]
  },
  {
   "cell_type": "markdown",
   "metadata": {},
   "source": [
    "## GPT"
   ]
  },
  {
   "cell_type": "code",
   "execution_count": 4,
   "metadata": {
    "ExecuteTime": {
     "end_time": "2022-07-20T07:00:48.766409Z",
     "start_time": "2022-07-20T07:00:48.752447Z"
    }
   },
   "outputs": [],
   "source": [
    "import numpy as np\n",
    "import scipy.stats as stats\n",
    "def GPT(data1 , data2 , alpha=0.05 , replication=10000):\n",
    "    '''\n",
    "    input:\n",
    "    data1 and data2 are the samples from 2 different societies\n",
    "    alpha's default value is 0.05, but can be changed\n",
    "    replication: number of replications for simulation (default=10,000)\n",
    "    \n",
    "    output:\n",
    "    1) result of the test\n",
    "    2) test-statistics\n",
    "    3) cut-off point\n",
    "    '''\n",
    "    \n",
    "    Xbar1 = data1.mean()\n",
    "    Xbar2 = data2.mean()\n",
    "    var1 = data1.var()\n",
    "    var2 = data2.var()\n",
    "    n1 = len(data1)\n",
    "    n2 = len(data2)\n",
    "    \n",
    "    R=np.zeros(replication)\n",
    "\n",
    "    for i in range(replication):\n",
    "        s1 = (var1*stats.chi2.rvs(df=n1-1,size=1))/(n1-1)\n",
    "        s2 = (var2*stats.chi2.rvs(df=n2-1,size=1))/(n2-1)\n",
    "        V1 = stats.chi2.rvs(df=n1-1,size=1)\n",
    "        V2 = stats.chi2.rvs(df=n2-1,size=1)\n",
    "        Z = stats.norm.rvs(loc=0 , scale=1 , size=1)\n",
    "\n",
    "        r = Z*np.sqrt(s1**2/V1 + s2**2/V2)[0]\n",
    "        R[i]=r\n",
    "\n",
    "    alpha=0.05\n",
    "    \n",
    "    # cut-off point\n",
    "    R_U = np.quantile(R , 1-alpha/2)\n",
    "\n",
    "    if np.abs(Xbar1-Xbar2)<=R_U:\n",
    "        print(f'not enough evidence to reject H0 under the significance level of {alpha}')\n",
    "    else:\n",
    "        print('reject H0')\n",
    "\n",
    "    return (np.abs(Xbar1-Xbar2) , R_U)"
   ]
  },
  {
   "cell_type": "markdown",
   "metadata": {},
   "source": [
    "## SSST"
   ]
  },
  {
   "cell_type": "code",
   "execution_count": 5,
   "metadata": {
    "ExecuteTime": {
     "end_time": "2022-07-20T07:00:48.781367Z",
     "start_time": "2022-07-20T07:00:48.768403Z"
    }
   },
   "outputs": [],
   "source": [
    "import numpy as np\n",
    "import scipy.stats as stats\n",
    "def SSST(data1 , data2 , alpha=0.05):\n",
    "    '''\n",
    "    input:\n",
    "    data1 and data2 are the samples from 2 different societies\n",
    "    alpha's default value is 0.05, but can be changed\n",
    "    \n",
    "    output:\n",
    "    1) result of the test\n",
    "    2) test-statistics\n",
    "    3) cut-off point\n",
    "    '''\n",
    "    \n",
    "    Xbar1 = data1.mean()\n",
    "    Xbar2 = data2.mean()\n",
    "    var1 = data1.var()\n",
    "    var2 = data2.var()\n",
    "    n1 = len(data1)\n",
    "    n2 = len(data2)\n",
    "    \n",
    "    # test-statistics\n",
    "    delta_star = np.abs(Xbar1-Xbar2)/np.sqrt(var1/n2 + var2/n1)\n",
    "    \n",
    "    # cut-off point calculation\n",
    "    eta = (var1/n1 + var2/n2) / (var2/n1 + var1/n2)\n",
    "    m = (var1/n2 + var2/n1)**2 / ((var1/n2)**2/(n1-1) + (var2/n1)**2/(n2-1))\n",
    "    t_SSST = eta*stats.t.ppf(1-alpha/2,m)\n",
    "\n",
    "    if delta_star<=t_SSST:\n",
    "        print(f'not enough evidence to reject H0 under the significance level of {alpha}')\n",
    "    else:\n",
    "        print('reject H0')\n",
    "\n",
    "    return (delta_star , t_SSST)"
   ]
  }
 ],
 "metadata": {
  "kernelspec": {
   "display_name": "Python 3",
   "language": "python",
   "name": "python3"
  },
  "language_info": {
   "codemirror_mode": {
    "name": "ipython",
    "version": 3
   },
   "file_extension": ".py",
   "mimetype": "text/x-python",
   "name": "python",
   "nbconvert_exporter": "python",
   "pygments_lexer": "ipython3",
   "version": "3.8.5"
  },
  "varInspector": {
   "cols": {
    "lenName": 16,
    "lenType": 16,
    "lenVar": 40
   },
   "kernels_config": {
    "python": {
     "delete_cmd_postfix": "",
     "delete_cmd_prefix": "del ",
     "library": "var_list.py",
     "varRefreshCmd": "print(var_dic_list())"
    },
    "r": {
     "delete_cmd_postfix": ") ",
     "delete_cmd_prefix": "rm(",
     "library": "var_list.r",
     "varRefreshCmd": "cat(var_dic_list()) "
    }
   },
   "types_to_exclude": [
    "module",
    "function",
    "builtin_function_or_method",
    "instance",
    "_Feature"
   ],
   "window_display": false
  }
 },
 "nbformat": 4,
 "nbformat_minor": 4
}
